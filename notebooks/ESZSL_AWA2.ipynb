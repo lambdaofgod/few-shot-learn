{
 "cells": [
  {
   "cell_type": "markdown",
   "metadata": {
    "colab_type": "text",
    "id": "BVE8gNxfs_-A"
   },
   "source": [
    "# Implementation of *[An embarrassingly simple approach to zero-shot learning](http://proceedings.mlr.press/v37/romera-paredes15.pdf)*"
   ]
  },
  {
   "cell_type": "code",
   "execution_count": 1,
   "metadata": {
    "colab": {
     "base_uri": "https://localhost:8080/",
     "height": 34
    },
    "colab_type": "code",
    "id": "1sPh1VLJtNr5",
    "outputId": "c280c1f9-9e4f-474d-8bfe-5a4fc7a94633"
   },
   "outputs": [],
   "source": [
    "import numpy as np\n",
    "from scipy.stats import hmean\n",
    "\n",
    "from sklearn.metrics import accuracy_score\n",
    "\n",
    "from few_shot_learn.data.awa2 import load_awa2\n",
    "from few_shot_learn.zero import ESZSLearner"
   ]
  },
  {
   "cell_type": "code",
   "execution_count": 2,
   "metadata": {
    "colab": {},
    "colab_type": "code",
    "id": "0CR0KZH9tPYZ"
   },
   "outputs": [],
   "source": [
    "awa2_dataset = load_awa2()"
   ]
  },
  {
   "cell_type": "code",
   "execution_count": 3,
   "metadata": {
    "colab": {},
    "colab_type": "code",
    "id": "0CR0KZH9tPYZ"
   },
   "outputs": [],
   "source": [
    "X_train, attributes_features_train, labels_train = awa2_dataset['train']\n",
    "X_val, attributes_features_val, labels_val = awa2_dataset['val']\n",
    "X_test, attributes_features_test, labels_test = awa2_dataset['test']"
   ]
  },
  {
   "cell_type": "code",
   "execution_count": 4,
   "metadata": {
    "colab": {},
    "colab_type": "code",
    "id": "3fHg8P5eQpXc"
   },
   "outputs": [],
   "source": [
    "eszs_learner = ESZSLearner(lmbda=0.01, gamma=0.01)"
   ]
  },
  {
   "cell_type": "code",
   "execution_count": 5,
   "metadata": {
    "colab": {},
    "colab_type": "code",
    "id": "QXJ024G7UaPZ"
   },
   "outputs": [
    {
     "name": "stdout",
     "output_type": "stream",
     "text": [
      "CPU times: user 17.8 s, sys: 487 ms, total: 18.3 s\n",
      "Wall time: 9.23 s\n"
     ]
    }
   ],
   "source": [
    "%%time\n",
    "\n",
    "eszs_learner.fit(X_train, attributes_features_train, labels_train)"
   ]
  },
  {
   "cell_type": "code",
   "execution_count": 6,
   "metadata": {
    "colab": {},
    "colab_type": "code",
    "id": "TJwUyA_wS9EO"
   },
   "outputs": [],
   "source": [
    "predictions_train = eszs_learner.predict(X_train, attributes_features_train)"
   ]
  },
  {
   "cell_type": "code",
   "execution_count": 7,
   "metadata": {
    "colab": {
     "base_uri": "https://localhost:8080/",
     "height": 1989
    },
    "colab_type": "code",
    "id": "ncGO27QFbMs9",
    "outputId": "85533f7a-3801-4e80-ac7f-81e04ec03629"
   },
   "outputs": [],
   "source": [
    "predictions_test = eszs_learner.predict(X_test, attributes_features_test)"
   ]
  },
  {
   "cell_type": "code",
   "execution_count": 8,
   "metadata": {
    "colab": {},
    "colab_type": "code",
    "id": "TrrrCTkLU_oB"
   },
   "outputs": [],
   "source": [
    "train_accuracy = accuracy_score(labels_train, predictions_train)"
   ]
  },
  {
   "cell_type": "code",
   "execution_count": 9,
   "metadata": {},
   "outputs": [],
   "source": [
    "test_accuracy = accuracy_score(labels_test, predictions_test)"
   ]
  },
  {
   "cell_type": "markdown",
   "metadata": {},
   "source": [
    "### Final metric\n",
    "\n",
    "Generalized Zero-Shot Learning uses harmonic mean of train and test accuracy as metric."
   ]
  },
  {
   "cell_type": "code",
   "execution_count": 10,
   "metadata": {},
   "outputs": [],
   "source": [
    "train_test_harmonic_mean = hmean([train_accuracy, test_accuracy])"
   ]
  },
  {
   "cell_type": "code",
   "execution_count": 11,
   "metadata": {},
   "outputs": [
    {
     "name": "stdout",
     "output_type": "stream",
     "text": [
      "train accuracy: 0.9833\n",
      "test accuracy: 0.3978\n",
      "train/test accuracy harmonic mean: 0.5665\n"
     ]
    }
   ],
   "source": [
    "print('train accuracy:', round(train_accuracy, 4))\n",
    "print('test accuracy:', round(test_accuracy, 4))\n",
    "print('train/test accuracy harmonic mean:', round(train_test_harmonic_mean, 4))"
   ]
  }
 ],
 "metadata": {
  "colab": {
   "name": "ESZL AWA2.ipynb",
   "provenance": [],
   "version": "0.3.2"
  },
  "kernelspec": {
   "display_name": "few_shot_learn",
   "language": "python",
   "name": "few_shot_learn"
  },
  "language_info": {
   "codemirror_mode": {
    "name": "ipython",
    "version": 3
   },
   "file_extension": ".py",
   "mimetype": "text/x-python",
   "name": "python",
   "nbconvert_exporter": "python",
   "pygments_lexer": "ipython3",
   "version": "3.6.4"
  }
 },
 "nbformat": 4,
 "nbformat_minor": 2
}
