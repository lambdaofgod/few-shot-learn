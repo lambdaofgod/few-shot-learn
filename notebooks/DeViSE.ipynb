{
 "cells": [
  {
   "cell_type": "code",
   "execution_count": 1,
   "metadata": {},
   "outputs": [],
   "source": [
    "import numpy as np\n",
    "from scipy.stats import hmean\n",
    "\n",
    "from sklearn.metrics import accuracy_score\n",
    "\n",
    "from scarce_shot_learn.data import load_awa2\n",
    "from scarce_shot_learn import zero_shot"
   ]
  },
  {
   "cell_type": "code",
   "execution_count": 2,
   "metadata": {},
   "outputs": [],
   "source": [
    "import torch"
   ]
  },
  {
   "cell_type": "code",
   "execution_count": 3,
   "metadata": {},
   "outputs": [
    {
     "data": {
      "text/plain": [
       "'1.7.1'"
      ]
     },
     "execution_count": 3,
     "metadata": {},
     "output_type": "execute_result"
    }
   ],
   "source": [
    "torch.__version__"
   ]
  },
  {
   "cell_type": "markdown",
   "metadata": {},
   "source": [
    "$\\phi$ - input feature\n",
    "$$\n",
    "    loss(\\phi, label) = \\sum_{j \\neq label} ReLU(margin - t_{label} W \\phi + t_j W \\phi) \n",
    "$$"
   ]
  },
  {
   "cell_type": "code",
   "execution_count": 4,
   "metadata": {},
   "outputs": [],
   "source": [
    "\n",
    "\n",
    "awa2_dataset = load_awa2()\n",
    "X_train, attributes_features_train, labels_train = awa2_dataset['train']\n",
    "X_val, attributes_features_val, labels_val = awa2_dataset['val']\n",
    "X_test, attributes_features_test, labels_test = awa2_dataset['test']\n",
    "X_train = X_train.astype('float32')\n",
    "attributes_features_train = attributes_features_train.astype('float32') "
   ]
  },
  {
   "cell_type": "code",
   "execution_count": 5,
   "metadata": {},
   "outputs": [],
   "source": [
    "import attr\n",
    "from scarce_shot_learn.zero_shot import zsl_base\n",
    "import torch\n",
    "from torch import nn, optim\n",
    "\n",
    "\n",
    "class DEVISELayer(nn.Module):\n",
    "    \n",
    "    def __init__(self, n_features, n_class_features, margin, init_weights_std=0.1):\n",
    "        super(DEVISELayer, self).__init__()\n",
    "        init_weights = init_weights_std * torch.randn(n_features, n_class_features) \n",
    "        self.weights = torch.nn.Parameter(data=init_weights.cuda())\n",
    "        self.margin = margin\n",
    "    \n",
    "    def forward(self, X, y, label_embeddings):\n",
    "        loss = torch.Tensor([0]).cuda()\n",
    "        for i in range(X.shape[0]):\n",
    "            loss += self._devise_loss(X[i], y[i], label_embeddings)\n",
    "        return loss\n",
    "        \n",
    "    def _devise_loss(self, emb, label, label_embeddings):\n",
    "        indicator = torch.ones(label_embeddings.shape[0], dtype=bool)\n",
    "        indicator[label] = 0\n",
    "        correct_class_similarity = torch.matmul(emb, torch.matmul(self.weights, label_embeddings[label])) \n",
    "        wrong_class_similarities = torch.matmul(emb, torch.matmul(self.weights, label_embeddings[indicator].T)) \n",
    "        per_class_loss = torch.nn.ReLU()(\n",
    "            self.margin - correct_class_similarity + wrong_class_similarities \n",
    "        )\n",
    "        return per_class_loss.sum()\n",
    "    \n",
    "    def predict(self, X, label_embeddings):\n",
    "        class_similarities = torch.matmul(X, torch.matmul(self.weights, label_embeddings.T)) \n",
    "        return torch.argmax(class_similarities, axis=1)\n",
    "\n",
    "\n",
    "@attr.s\n",
    "class DEVISELearner(zsl_base.ZeroShotClassifier):\n",
    "    \"\"\"\n",
    "        see https://static.googleusercontent.com/media/research.google.com/en//pubs/archive/41473.pdf\n",
    "        for the paper\n",
    "    \"\"\"\n",
    "    margin = attr.ib(default=0.1)\n",
    "    \n",
    "    def fit(self, X, y, class_attributes):\n",
    "        le = LabelEncoder()\n",
    "        ohe = OneHotEncoder()\n",
    "        y_labels_encoded = le.fit_transform(y)\n",
    "        y_labels_ohe = ohe.fit_transform(y_labels_encoded.reshape(-1, 1)).toarray()\n",
    "        M = np.random.randn\n",
    "        X_t = torch.tensor(X)\n",
    "        class_attributes_t = torch.tensor(class_attributes)\n",
    "        "
   ]
  },
  {
   "cell_type": "code",
   "execution_count": 6,
   "metadata": {},
   "outputs": [],
   "source": [
    "import torch.nn"
   ]
  },
  {
   "cell_type": "code",
   "execution_count": 7,
   "metadata": {},
   "outputs": [],
   "source": [
    "devise_learner = DEVISELearner(0.1)"
   ]
  },
  {
   "cell_type": "code",
   "execution_count": 8,
   "metadata": {},
   "outputs": [],
   "source": [
    "devise_learner.weights = torch.randn(X_train.shape[1], attributes_features_train.shape[1]).double()"
   ]
  },
  {
   "cell_type": "code",
   "execution_count": 9,
   "metadata": {},
   "outputs": [
    {
     "data": {
      "text/plain": [
       "tensor([ True, False])"
      ]
     },
     "execution_count": 9,
     "metadata": {},
     "output_type": "execute_result"
    }
   ],
   "source": [
    "torch.Tensor([1,0]).bool()"
   ]
  },
  {
   "cell_type": "code",
   "execution_count": 10,
   "metadata": {},
   "outputs": [],
   "source": [
    "devise_loss = DEVISELayer(X_train.shape[1], attributes_features_train.shape[1], 0.1)"
   ]
  },
  {
   "cell_type": "code",
   "execution_count": 11,
   "metadata": {},
   "outputs": [],
   "source": [
    "optimizer = torch.optim.Adagrad(devise_loss.parameters())"
   ]
  },
  {
   "cell_type": "code",
   "execution_count": 12,
   "metadata": {},
   "outputs": [
    {
     "data": {
      "text/plain": [
       "(16187, 2048)"
      ]
     },
     "execution_count": 12,
     "metadata": {},
     "output_type": "execute_result"
    }
   ],
   "source": [
    "X_train.shape"
   ]
  },
  {
   "cell_type": "code",
   "execution_count": 13,
   "metadata": {},
   "outputs": [
    {
     "data": {
      "text/plain": [
       "torch.float32"
      ]
     },
     "execution_count": 13,
     "metadata": {},
     "output_type": "execute_result"
    }
   ],
   "source": [
    "torch.tensor(X_train).dtype\n",
    "torch.tensor(attributes_features_train).dtype"
   ]
  },
  {
   "cell_type": "code",
   "execution_count": 14,
   "metadata": {},
   "outputs": [
    {
     "data": {
      "text/plain": [
       "dtype('float32')"
      ]
     },
     "execution_count": 14,
     "metadata": {},
     "output_type": "execute_result"
    }
   ],
   "source": [
    "attributes_features_train.dtype"
   ]
  },
  {
   "cell_type": "code",
   "execution_count": 15,
   "metadata": {},
   "outputs": [
    {
     "name": "stdout",
     "output_type": "stream",
     "text": [
      "CPU times: user 264 ms, sys: 108 ms, total: 371 ms\n",
      "Wall time: 371 ms\n"
     ]
    }
   ],
   "source": [
    "%%time\n",
    "loss = devise_loss(\n",
    "    torch.tensor(X_train[:10]).cuda(),\n",
    "    torch.tensor(labels_train[:10]).int().cuda(),\n",
    "    torch.tensor(attributes_features_train).cuda()\n",
    ")"
   ]
  },
  {
   "cell_type": "code",
   "execution_count": 16,
   "metadata": {},
   "outputs": [
    {
     "name": "stdout",
     "output_type": "stream",
     "text": [
      "CPU times: user 5 ms, sys: 0 ns, total: 5 ms\n",
      "Wall time: 4.56 ms\n"
     ]
    }
   ],
   "source": [
    "%%time\n",
    "loss.backward()"
   ]
  },
  {
   "cell_type": "code",
   "execution_count": 17,
   "metadata": {},
   "outputs": [],
   "source": [
    "y_pred = devise_loss.predict(torch.tensor(X_train).cuda(), torch.Tensor(attributes_features_train).cuda()).cpu().detach().numpy()"
   ]
  },
  {
   "cell_type": "code",
   "execution_count": 18,
   "metadata": {},
   "outputs": [
    {
     "data": {
      "text/plain": [
       "0.025699635509977142"
      ]
     },
     "execution_count": 18,
     "metadata": {},
     "output_type": "execute_result"
    }
   ],
   "source": [
    "(y_pred == labels_train).mean()"
   ]
  },
  {
   "cell_type": "code",
   "execution_count": 19,
   "metadata": {},
   "outputs": [],
   "source": [
    "import ignite"
   ]
  },
  {
   "cell_type": "code",
   "execution_count": 20,
   "metadata": {},
   "outputs": [],
   "source": [
    "def get_dataloader(X, y, batch_size=16):\n",
    "    ds = torch.utils.data.TensorDataset(torch.Tensor(X), torch.Tensor(y).int())\n",
    "    return torch.utils.data.DataLoader(ds, batch_size=batch_size)"
   ]
  },
  {
   "cell_type": "code",
   "execution_count": 21,
   "metadata": {},
   "outputs": [],
   "source": [
    "train_dataloader = get_dataloader(X_train, labels_train)\n",
    "val_dataloader = get_dataloader(X_val, labels_val)"
   ]
  },
  {
   "cell_type": "code",
   "execution_count": 22,
   "metadata": {},
   "outputs": [],
   "source": [
    "def process_function(engine, batch, loss_fn, optimizer, y_features):\n",
    "    optimizer.zero_grad()\n",
    "    x, y = batch\n",
    "    x = x.cuda()\n",
    "    y = y.cuda()\n",
    "    loss = loss_fn(x, y, y_features)\n",
    "    y_pred = loss_fn.predict(x, y_features)\n",
    "    loss.backward()\n",
    "    optimizer.step()\n",
    "    return y_pred, y, {'loss': loss.item()}\n",
    "\n"
   ]
  },
  {
   "cell_type": "code",
   "execution_count": 23,
   "metadata": {},
   "outputs": [
    {
     "data": {
      "text/plain": [
       "Adagrad (\n",
       "Parameter Group 0\n",
       "    eps: 1e-10\n",
       "    initial_accumulator_value: 0\n",
       "    lr: 0.01\n",
       "    lr_decay: 0\n",
       "    weight_decay: 0\n",
       ")"
      ]
     },
     "execution_count": 23,
     "metadata": {},
     "output_type": "execute_result"
    }
   ],
   "source": [
    "optimizer"
   ]
  },
  {
   "cell_type": "code",
   "execution_count": 24,
   "metadata": {},
   "outputs": [],
   "source": [
    "from toolz import partial\n",
    "from ignite.contrib.handlers import tqdm_logger\n",
    "\n",
    "def run_training_loop(loss_fn, epochs, y_features_train):\n",
    "    trainer = ignite.engine.Engine(partial(process_function, loss_fn=loss_fn, optimizer=optimizer, y_features=y_features_train))\n",
    "    pbar = tqdm_logger.ProgressBar()\n",
    "    pbar.attach(trainer)\n",
    "    trainer.run(train_dataloader, max_epochs=epochs)\n",
    "    return loss_fn\n"
   ]
  },
  {
   "cell_type": "code",
   "execution_count": 25,
   "metadata": {},
   "outputs": [
    {
     "data": {
      "application/vnd.jupyter.widget-view+json": {
       "model_id": "63385b665b1e4ab9950a254f5e01930b",
       "version_major": 2,
       "version_minor": 0
      },
      "text/plain": [
       "[1/1012]   0%|           [00:00<?]"
      ]
     },
     "metadata": {},
     "output_type": "display_data"
    },
    {
     "data": {
      "application/vnd.jupyter.widget-view+json": {
       "model_id": "eb65165f336c4b22baaa84b2fd3372cd",
       "version_major": 2,
       "version_minor": 0
      },
      "text/plain": [
       "[1/1012]   0%|           [00:00<?]"
      ]
     },
     "metadata": {},
     "output_type": "display_data"
    },
    {
     "data": {
      "application/vnd.jupyter.widget-view+json": {
       "model_id": "d2262f4327ca4df593f787ca0eb1f775",
       "version_major": 2,
       "version_minor": 0
      },
      "text/plain": [
       "[1/1012]   0%|           [00:00<?]"
      ]
     },
     "metadata": {},
     "output_type": "display_data"
    },
    {
     "data": {
      "application/vnd.jupyter.widget-view+json": {
       "model_id": "7889d2785a484dcda96b4217982d70a4",
       "version_major": 2,
       "version_minor": 0
      },
      "text/plain": [
       "[1/1012]   0%|           [00:00<?]"
      ]
     },
     "metadata": {},
     "output_type": "display_data"
    },
    {
     "data": {
      "application/vnd.jupyter.widget-view+json": {
       "model_id": "74cd817a8c7146c8a04a5c16532858b9",
       "version_major": 2,
       "version_minor": 0
      },
      "text/plain": [
       "[1/1012]   0%|           [00:00<?]"
      ]
     },
     "metadata": {},
     "output_type": "display_data"
    },
    {
     "data": {
      "text/plain": [
       "DEVISELayer()"
      ]
     },
     "execution_count": 25,
     "metadata": {},
     "output_type": "execute_result"
    }
   ],
   "source": [
    "run_training_loop(devise_loss, 5, torch.Tensor(attributes_features_train).float().cuda())"
   ]
  },
  {
   "cell_type": "code",
   "execution_count": 26,
   "metadata": {},
   "outputs": [],
   "source": [
    "y_pred_train = devise_loss.predict(torch.tensor(X_train).cuda(), torch.Tensor(attributes_features_train).cuda()).cpu().detach().numpy()"
   ]
  },
  {
   "cell_type": "code",
   "execution_count": 31,
   "metadata": {},
   "outputs": [],
   "source": [
    "train_acc = (y_pred_train == labels_train).mean()"
   ]
  },
  {
   "cell_type": "code",
   "execution_count": 28,
   "metadata": {},
   "outputs": [
    {
     "data": {
      "text/plain": [
       "array([[0.07233195, 0.        , 0.        , ..., 0.11898569, 0.12480808,\n",
       "        0.04896776],\n",
       "       [0.24730479, 0.26063323, 0.        , ..., 0.1044239 , 0.03998532,\n",
       "        0.2584296 ],\n",
       "       [0.16089413, 0.        , 0.        , ..., 0.22788871, 0.122741  ,\n",
       "        0.05665286],\n",
       "       ...,\n",
       "       [0.23174215, 0.21811203, 0.        , ..., 0.16699909, 0.11516243,\n",
       "        0.08919886],\n",
       "       [0.        , 0.06587863, 0.        , ..., 0.02108505, 0.10218637,\n",
       "        0.0332632 ],\n",
       "       [0.22516498, 0.15266022, 0.        , ..., 0.12733492, 0.10009694,\n",
       "        0.01771   ]])"
      ]
     },
     "execution_count": 28,
     "metadata": {},
     "output_type": "execute_result"
    }
   ],
   "source": [
    "attributes_features_val"
   ]
  },
  {
   "cell_type": "code",
   "execution_count": 29,
   "metadata": {},
   "outputs": [],
   "source": [
    "y_pred_val = devise_loss.predict(torch.tensor(X_val).float().cuda(), torch.Tensor(attributes_features_val).cuda()).cpu().detach().numpy()"
   ]
  },
  {
   "cell_type": "code",
   "execution_count": 32,
   "metadata": {},
   "outputs": [],
   "source": [
    "val_acc = (y_pred_val == labels_val).mean()"
   ]
  },
  {
   "cell_type": "code",
   "execution_count": 34,
   "metadata": {},
   "outputs": [
    {
     "data": {
      "text/plain": [
       "0.5619103287274593"
      ]
     },
     "execution_count": 34,
     "metadata": {},
     "output_type": "execute_result"
    }
   ],
   "source": [
    "hmean([train_acc, val_acc])"
   ]
  }
 ],
 "metadata": {
  "kernelspec": {
   "display_name": "Python 3",
   "language": "python",
   "name": "python3"
  },
  "language_info": {
   "codemirror_mode": {
    "name": "ipython",
    "version": 3
   },
   "file_extension": ".py",
   "mimetype": "text/x-python",
   "name": "python",
   "nbconvert_exporter": "python",
   "pygments_lexer": "ipython3",
   "version": "3.8.5"
  },
  "name": "DeViSE.ipynb"
 },
 "nbformat": 4,
 "nbformat_minor": 4
}
