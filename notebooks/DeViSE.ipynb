{
 "cells": [
  {
   "cell_type": "code",
   "execution_count": 1,
   "metadata": {},
   "outputs": [],
   "source": [
    "import numpy as np\n",
    "import os\n",
    "from scipy.stats import hmean\n",
    "\n",
    "from sklearn.metrics import accuracy_score\n",
    "\n",
    "from scarce_shot_learn.data import load_awa2\n",
    "from scarce_shot_learn import zero_shot"
   ]
  },
  {
   "cell_type": "code",
   "execution_count": 2,
   "metadata": {},
   "outputs": [],
   "source": [
    "import torch"
   ]
  },
  {
   "cell_type": "code",
   "execution_count": 3,
   "metadata": {},
   "outputs": [
    {
     "data": {
      "text/plain": [
       "'1.7.1'"
      ]
     },
     "execution_count": 3,
     "metadata": {},
     "output_type": "execute_result"
    }
   ],
   "source": [
    "torch.__version__"
   ]
  },
  {
   "cell_type": "markdown",
   "metadata": {},
   "source": [
    "$\\phi$ - input feature\n",
    "$$\n",
    "    loss(\\phi, label) = \\sum_{j \\neq label} ReLU(margin - t_{label} W \\phi + t_j W \\phi) \n",
    "$$"
   ]
  },
  {
   "cell_type": "code",
   "execution_count": 4,
   "metadata": {},
   "outputs": [],
   "source": [
    "awa2_dataset = load_awa2()\n",
    "X_train, attributes_features_train, labels_train = awa2_dataset['train']\n",
    "X_val, attributes_features_val, labels_val = awa2_dataset['val']\n",
    "X_test, attributes_features_test, labels_test = awa2_dataset['test']\n",
    "X_train = X_train.astype('float32')\n",
    "attributes_features_train = attributes_features_train.astype('float32') "
   ]
  },
  {
   "cell_type": "code",
   "execution_count": 5,
   "metadata": {},
   "outputs": [],
   "source": [
    "import attr\n",
    "from scarce_shot_learn.zero_shot import zsl_base\n",
    "import torch\n",
    "from torch import nn, optim\n",
    "from toolz import partial\n",
    "from ignite.contrib.handlers import tqdm_logger\n",
    "from sklearn import preprocessing \n",
    "\n",
    "\n",
    "def bilinear_feature_similarity(weights, embedding, class_features):\n",
    "    \"\"\"\n",
    "    embedding * W * class_features\n",
    "    \"\"\"\n",
    "    return torch.matmul(embedding, torch.matmul(weights, class_features.T))  \n",
    "\n",
    "\n",
    "def similarity_based_hinge_loss(weights, embedding, label, label_embeddings, feature_similarity=bilinear_feature_similarity):\n",
    "    \"\"\"\n",
    "    see https://arxiv.org/pdf/1703.04394.pdf\n",
    "    equations (4) and (7) only differn in final per-class aggregation\n",
    "    this function computes value before this final aggregation step\n",
    "    \"\"\"\n",
    "    indicator = torch.ones(label_embeddings.shape[0], dtype=bool)\n",
    "    indicator[label] = 0\n",
    "    correct_class_similarity = feature_similarity(weights, embedding, label_embeddings[label])\n",
    "    wrong_class_similarities = feature_similarity(weights, embedding, label_embeddings[indicator])\n",
    "    return - correct_class_similarity + wrong_class_similarities \n",
    "\n",
    "\n",
    "def get_dataloader(X, y, batch_size=16):\n",
    "    ds = torch.utils.data.TensorDataset(torch.Tensor(X), torch.Tensor(y).int())\n",
    "    return torch.utils.data.DataLoader(ds, batch_size=batch_size)\n",
    "\n",
    "\n",
    "def process_function(engine, batch, loss_fn, optimizer, y_features, use_cuda=True):\n",
    "    optimizer.zero_grad()\n",
    "    x, y = batch\n",
    "    if use_cuda:\n",
    "        x = x.cuda()\n",
    "        y = y.cuda()\n",
    "    loss = loss_fn(x, y, y_features)\n",
    "    y_pred = loss_fn.predict(x, y_features)\n",
    "    loss.backward()\n",
    "    optimizer.step()\n",
    "    return y_pred, y, {'loss': loss.item()}\n",
    "\n",
    "\n",
    "def run_training_loop(loss_fn, train_dataloader, epochs, y_features_train, optimizer=optim.Adagrad, use_cuda=True):\n",
    "    if use_cuda:\n",
    "        y_features_train = y_features_train.cuda()\n",
    "    trainer = ignite.engine.Engine(partial(process_function, loss_fn=loss_fn, optimizer=optimizer(loss_fn.parameters()), y_features=y_features_train))\n",
    "    pbar = tqdm_logger.ProgressBar()\n",
    "    pbar.attach(trainer)\n",
    "    trainer.run(train_dataloader, max_epochs=epochs)\n",
    "    return loss_fn\n",
    "\n",
    "\n",
    "class DEVISELayer(nn.Module):\n",
    "    \n",
    "    def __init__(self, n_features, n_class_features, margin, init_weights_std=0.1):\n",
    "        super(DEVISELayer, self).__init__()\n",
    "        init_weights = init_weights_std * torch.randn(n_features, n_class_features) \n",
    "        self.weights = nn.Parameter(data=init_weights.cuda())\n",
    "        self.margin = margin\n",
    "    \n",
    "    def forward(self, X, y, label_embeddings):\n",
    "        loss = torch.Tensor([0]).cuda()\n",
    "        for i in range(X.shape[0]):\n",
    "            loss += self._devise_loss(X[i], y[i], label_embeddings)\n",
    "        return loss\n",
    "        \n",
    "    def _devise_loss(self, embedding, label, label_embeddings):\n",
    "        indicator = torch.ones(label_embeddings.shape[0], dtype=bool)\n",
    "        indicator[label] = 0\n",
    "        per_class_loss = similarity_based_hinge_loss(self.weights, embedding, label, label_embeddings)\n",
    "        return nn.ReLU()(self.margin + per_class_loss).sum()\n",
    "    \n",
    "    def predict(self, X, label_embeddings):\n",
    "        class_similarities = bilinear_feature_similarity(self.weights, X, label_embeddings)\n",
    "        return torch.argmax(class_similarities, axis=1)\n",
    "\n",
    "\n",
    "@attr.s\n",
    "class DEVISELearner(zsl_base.ZeroShotClassifier):\n",
    "    \"\"\"\n",
    "        see https://static.googleusercontent.com/media/research.google.com/en//pubs/archive/41473.pdf\n",
    "        for the paper\n",
    "    \"\"\"\n",
    "    margin = attr.ib(default=0.1)\n",
    "    \n",
    "    def fit(self, X, y, class_attributes, n_epochs=1, eval_set=None):\n",
    "        self.loss_fn = DEVISELayer(X.shape[1], class_attributes.shape[1], self.margin)\n",
    "        le = preprocessing.LabelEncoder()\n",
    "        ohe = preprocessing.OneHotEncoder()\n",
    "        y_labels_encoded = le.fit_transform(y)\n",
    "        y_labels_ohe = ohe.fit_transform(y_labels_encoded.reshape(-1, 1)).toarray()\n",
    "        M = np.random.randn\n",
    "        X_t = torch.tensor(X)\n",
    "        class_attributes_t = torch.Tensor(class_attributes).float()\n",
    "        train_dataloader = get_dataloader(X_train, labels_train)\n",
    "        run_training_loop(self.loss_fn, train_dataloader, n_epochs, torch.Tensor(class_attributes).float())\n",
    "        return self\n",
    "\n",
    "    def predict(self, X, class_attributes):\n",
    "        return self.loss_fn.predict(torch.tensor(X).cuda(), torch.Tensor(class_attributes).cuda()).cpu().detach().numpy()"
   ]
  },
  {
   "cell_type": "code",
   "execution_count": 6,
   "metadata": {},
   "outputs": [],
   "source": [
    "import torch.nn"
   ]
  },
  {
   "cell_type": "code",
   "execution_count": 7,
   "metadata": {},
   "outputs": [],
   "source": [
    "devise_learner = DEVISELearner(0.1)"
   ]
  },
  {
   "cell_type": "code",
   "execution_count": 8,
   "metadata": {},
   "outputs": [],
   "source": [
    "devise_learner.weights = torch.randn(X_train.shape[1], attributes_features_train.shape[1]).double()"
   ]
  },
  {
   "cell_type": "code",
   "execution_count": 9,
   "metadata": {},
   "outputs": [
    {
     "data": {
      "text/plain": [
       "tensor([ True, False])"
      ]
     },
     "execution_count": 9,
     "metadata": {},
     "output_type": "execute_result"
    }
   ],
   "source": [
    "torch.Tensor([1,0]).bool()"
   ]
  },
  {
   "cell_type": "code",
   "execution_count": 10,
   "metadata": {},
   "outputs": [],
   "source": [
    "devise_loss = DEVISELayer(X_train.shape[1], attributes_features_train.shape[1], 0.1)"
   ]
  },
  {
   "cell_type": "code",
   "execution_count": 11,
   "metadata": {},
   "outputs": [],
   "source": [
    "optimizer = torch.optim.Adagrad(devise_loss.parameters())"
   ]
  },
  {
   "cell_type": "code",
   "execution_count": 12,
   "metadata": {},
   "outputs": [
    {
     "data": {
      "text/plain": [
       "(16187, 2048)"
      ]
     },
     "execution_count": 12,
     "metadata": {},
     "output_type": "execute_result"
    }
   ],
   "source": [
    "X_train.shape"
   ]
  },
  {
   "cell_type": "code",
   "execution_count": 13,
   "metadata": {},
   "outputs": [
    {
     "data": {
      "text/plain": [
       "torch.float32"
      ]
     },
     "execution_count": 13,
     "metadata": {},
     "output_type": "execute_result"
    }
   ],
   "source": [
    "torch.tensor(X_train).dtype\n",
    "torch.tensor(attributes_features_train).dtype"
   ]
  },
  {
   "cell_type": "code",
   "execution_count": 14,
   "metadata": {},
   "outputs": [
    {
     "data": {
      "text/plain": [
       "dtype('float32')"
      ]
     },
     "execution_count": 14,
     "metadata": {},
     "output_type": "execute_result"
    }
   ],
   "source": [
    "attributes_features_train.dtype"
   ]
  },
  {
   "cell_type": "code",
   "execution_count": 15,
   "metadata": {},
   "outputs": [
    {
     "name": "stdout",
     "output_type": "stream",
     "text": [
      "CPU times: user 226 ms, sys: 102 ms, total: 328 ms\n",
      "Wall time: 327 ms\n"
     ]
    }
   ],
   "source": [
    "%%time\n",
    "loss = devise_loss(\n",
    "    torch.tensor(X_train[:10]).cuda(),\n",
    "    torch.tensor(labels_train[:10]).int().cuda(),\n",
    "    torch.tensor(attributes_features_train).cuda()\n",
    ")"
   ]
  },
  {
   "cell_type": "code",
   "execution_count": 16,
   "metadata": {},
   "outputs": [
    {
     "name": "stdout",
     "output_type": "stream",
     "text": [
      "CPU times: user 235 µs, sys: 3.02 ms, total: 3.26 ms\n",
      "Wall time: 2.92 ms\n"
     ]
    }
   ],
   "source": [
    "%%time\n",
    "loss.backward()"
   ]
  },
  {
   "cell_type": "code",
   "execution_count": 17,
   "metadata": {},
   "outputs": [],
   "source": [
    "y_pred = devise_loss.predict(torch.tensor(X_train).cuda(), torch.Tensor(attributes_features_train).cuda()).cpu().detach().numpy()"
   ]
  },
  {
   "cell_type": "code",
   "execution_count": 18,
   "metadata": {},
   "outputs": [
    {
     "data": {
      "text/plain": [
       "0.014208933094458516"
      ]
     },
     "execution_count": 18,
     "metadata": {},
     "output_type": "execute_result"
    }
   ],
   "source": [
    "(y_pred == labels_train).mean()"
   ]
  },
  {
   "cell_type": "code",
   "execution_count": 19,
   "metadata": {},
   "outputs": [],
   "source": [
    "import ignite"
   ]
  },
  {
   "cell_type": "code",
   "execution_count": 20,
   "metadata": {},
   "outputs": [],
   "source": [
    "train_dataloader = get_dataloader(X_train, labels_train)\n",
    "val_dataloader = get_dataloader(X_val, labels_val)"
   ]
  },
  {
   "cell_type": "code",
   "execution_count": 21,
   "metadata": {},
   "outputs": [],
   "source": [
    "devise_learner = DEVISELearner()"
   ]
  },
  {
   "cell_type": "code",
   "execution_count": 22,
   "metadata": {},
   "outputs": [
    {
     "data": {
      "application/vnd.jupyter.widget-view+json": {
       "model_id": "82ebe23dec054a8fbab803d1b1746dcc",
       "version_major": 2,
       "version_minor": 0
      },
      "text/plain": [
       "[1/1012]   0%|           [00:00<?]"
      ]
     },
     "metadata": {},
     "output_type": "display_data"
    },
    {
     "data": {
      "application/vnd.jupyter.widget-view+json": {
       "model_id": "d46dd5d50f484089b16007d901014582",
       "version_major": 2,
       "version_minor": 0
      },
      "text/plain": [
       "[1/1012]   0%|           [00:00<?]"
      ]
     },
     "metadata": {},
     "output_type": "display_data"
    },
    {
     "data": {
      "text/plain": [
       "DEVISELearner(margin=0.1)"
      ]
     },
     "execution_count": 22,
     "metadata": {},
     "output_type": "execute_result"
    }
   ],
   "source": [
    "devise_learner.fit(X_train, labels_train, attributes_features_train, n_epochs=2)"
   ]
  },
  {
   "cell_type": "code",
   "execution_count": 23,
   "metadata": {},
   "outputs": [],
   "source": [
    "y_pred_train = devise_learner.predict(X_train, attributes_features_train)"
   ]
  },
  {
   "cell_type": "code",
   "execution_count": 24,
   "metadata": {},
   "outputs": [
    {
     "data": {
      "text/plain": [
       "0.9389633656638043"
      ]
     },
     "execution_count": 24,
     "metadata": {},
     "output_type": "execute_result"
    }
   ],
   "source": [
    "(y_pred_train == labels_train).mean()"
   ]
  },
  {
   "cell_type": "code",
   "execution_count": 27,
   "metadata": {},
   "outputs": [
    {
     "ename": "NameError",
     "evalue": "name 'y_pred_val' is not defined",
     "output_type": "error",
     "traceback": [
      "\u001b[0;31m---------------------------------------------------------------------------\u001b[0m",
      "\u001b[0;31mNameError\u001b[0m                                 Traceback (most recent call last)",
      "\u001b[0;32m<ipython-input-27-33aa7530cc0c>\u001b[0m in \u001b[0;36m<module>\u001b[0;34m\u001b[0m\n\u001b[1;32m      1\u001b[0m \u001b[0mtrain_acc\u001b[0m \u001b[0;34m=\u001b[0m \u001b[0;34m(\u001b[0m\u001b[0my_pred_train\u001b[0m \u001b[0;34m==\u001b[0m \u001b[0mlabels_train\u001b[0m\u001b[0;34m)\u001b[0m\u001b[0;34m.\u001b[0m\u001b[0mmean\u001b[0m\u001b[0;34m(\u001b[0m\u001b[0;34m)\u001b[0m\u001b[0;34m\u001b[0m\u001b[0;34m\u001b[0m\u001b[0m\n\u001b[0;32m----> 2\u001b[0;31m \u001b[0mval_acc\u001b[0m \u001b[0;34m=\u001b[0m \u001b[0;34m(\u001b[0m\u001b[0my_pred_val\u001b[0m \u001b[0;34m==\u001b[0m \u001b[0mlabels_val\u001b[0m\u001b[0;34m)\u001b[0m\u001b[0;34m.\u001b[0m\u001b[0mmean\u001b[0m\u001b[0;34m(\u001b[0m\u001b[0;34m)\u001b[0m\u001b[0;34m\u001b[0m\u001b[0;34m\u001b[0m\u001b[0m\n\u001b[0m\u001b[1;32m      3\u001b[0m \u001b[0mtest_acc\u001b[0m \u001b[0;34m=\u001b[0m \u001b[0;34m(\u001b[0m\u001b[0my_pred_test\u001b[0m \u001b[0;34m==\u001b[0m \u001b[0mlabels_test\u001b[0m\u001b[0;34m)\u001b[0m\u001b[0;34m.\u001b[0m\u001b[0mmean\u001b[0m\u001b[0;34m(\u001b[0m\u001b[0;34m)\u001b[0m\u001b[0;34m\u001b[0m\u001b[0;34m\u001b[0m\u001b[0m\n",
      "\u001b[0;31mNameError\u001b[0m: name 'y_pred_val' is not defined"
     ]
    }
   ],
   "source": [
    "train_acc = (y_pred_train == labels_train).mean()\n",
    "val_acc = (y_pred_val == labels_val).mean()\n",
    "test_acc = (y_pred_test == labels_test).mean()"
   ]
  },
  {
   "cell_type": "code",
   "execution_count": null,
   "metadata": {},
   "outputs": [],
   "source": [
    "hmean([train_acc, val_acc])"
   ]
  },
  {
   "cell_type": "code",
   "execution_count": null,
   "metadata": {},
   "outputs": [],
   "source": [
    "test_acc"
   ]
  }
 ],
 "metadata": {
  "kernelspec": {
   "display_name": "Python 3",
   "language": "python",
   "name": "python3"
  },
  "language_info": {
   "codemirror_mode": {
    "name": "ipython",
    "version": 3
   },
   "file_extension": ".py",
   "mimetype": "text/x-python",
   "name": "python",
   "nbconvert_exporter": "python",
   "pygments_lexer": "ipython3",
   "version": "3.8.5"
  },
  "name": "DeViSE.ipynb"
 },
 "nbformat": 4,
 "nbformat_minor": 4
}
